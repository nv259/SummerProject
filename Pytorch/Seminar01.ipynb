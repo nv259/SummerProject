{
 "cells": [
  {
   "cell_type": "markdown",
   "metadata": {},
   "source": [
    "# What is PyTorch"
   ]
  },
  {
   "cell_type": "markdown",
   "metadata": {},
   "source": [
    "## Warm-up: numpy"
   ]
  },
  {
   "cell_type": "markdown",
   "metadata": {},
   "source": [
    "**Goal:** Let's start with a problem of fitting $y = sin(x)$ with a third order polynomial.\n",
    "\n",
    "Being a third order polynomial means: $$y = ax^3 + bx^2 + cx + d$$\n"
   ]
  },
  {
   "cell_type": "markdown",
   "metadata": {},
   "source": [
    "### Import libraries"
   ]
  },
  {
   "cell_type": "code",
   "execution_count": null,
   "metadata": {},
   "outputs": [],
   "source": [
    "# -*- coding: utf-8 -*-\n",
    "import numpy as np\n",
    "import math\n",
    "import matplotlib.pyplot as plt"
   ]
  },
  {
   "cell_type": "code",
   "execution_count": null,
   "metadata": {},
   "outputs": [],
   "source": [
    "\n",
    "x = np.linspace(-math.pi, math.pi, 2000)\n",
    "y = np.sin(x)\n",
    "\n",
    "# Visualize dataset\n",
    "plt.plot(x, y)"
   ]
  },
  {
   "cell_type": "markdown",
   "metadata": {},
   "source": [
    "### Model"
   ]
  },
  {
   "cell_type": "markdown",
   "metadata": {},
   "source": [
    "#### Define functions"
   ]
  },
  {
   "cell_type": "code",
   "execution_count": null,
   "metadata": {},
   "outputs": [],
   "source": [
    "def forward(x, a, b, c, d):\n",
    "    \"\"\" y = ax^3 + bx^2 + cx + d\n",
    "        y_pred = \"\"\"\n",
    "    # Begin code here\n",
    "\n",
    "    # End code\n",
    "    return y_pred"
   ]
  },
  {
   "cell_type": "code",
   "execution_count": null,
   "metadata": {},
   "outputs": [],
   "source": [
    "def compute_loss(y, y_pred):\n",
    "    \"\"\" MSE function\n",
    "        loss = \"\"\"\n",
    "    # Begin code here\n",
    "\n",
    "    # End code\n",
    "    return loss"
   ]
  },
  {
   "cell_type": "code",
   "execution_count": null,
   "metadata": {},
   "outputs": [],
   "source": [
    "def backward(x, y, y_pred):\n",
    "    \"\"\" Compute gradients of a, b, c, d w.r.t loss\n",
    "        grad_a =\n",
    "        grad_b =\n",
    "        grad_c =\n",
    "        grad_d = \"\"\"\n",
    "    # Begin code here\n",
    "\n",
    "    # End code\n",
    "    return grad_a, grad_b, grad_c, grad_d"
   ]
  },
  {
   "cell_type": "markdown",
   "metadata": {},
   "source": [
    "#### Train model"
   ]
  },
  {
   "cell_type": "code",
   "execution_count": null,
   "metadata": {},
   "outputs": [],
   "source": [
    "# Initialize weights\n",
    "a = np.random.randn()\n",
    "b = np.random.randn()\n",
    "c = np.random.randn()\n",
    "d = np.random.randn()\n",
    "\n",
    "learning_rate = 0.001\n",
    "\n",
    "print([a, b, c, d])"
   ]
  },
  {
   "cell_type": "code",
   "execution_count": null,
   "metadata": {},
   "outputs": [],
   "source": [
    "# Train through forward pass and backward pass\n",
    "for epoch in range(1000):\n",
    "    # Forward pass: Compute predicted y\n",
    "    y_pred = forward(x, a, b, c, d)\n",
    "    \n",
    "    # Compute and print loss\n",
    "    loss = compute_loss(y, y_pred)\n",
    "    if epoch % 100 == 99:\n",
    "        print(f'Epoch: {epoch}, loss: {loss}')\n",
    "\n",
    "    # Backward pass: Compute gradients (a, b, c, d)\n",
    "    grad_a, grad_b, grad_c, grad_d = backward(x, y, y_pred)\n",
    "\n",
    "    # Update weights\n",
    "    a = a - learning_rate * grad_a\n",
    "    b = b - learning_rate * grad_b\n",
    "    c = c - learning_rate * grad_c\n",
    "    d = d - learning_rate * grad_d\n",
    "\n",
    "print(f'Result: y = {a}x^3 + {b}x^2 + {c}x + {d}')"
   ]
  },
  {
   "cell_type": "code",
   "execution_count": null,
   "metadata": {},
   "outputs": [],
   "source": [
    "# Visualize input and y_pred\n",
    "y_pred = forward(x, a, b, c, d)\n",
    "plt.plot(x, y_pred)"
   ]
  }
 ],
 "metadata": {
  "kernelspec": {
   "display_name": "Python 3 (ipykernel)",
   "language": "python",
   "name": "python3"
  },
  "language_info": {
   "codemirror_mode": {
    "name": "ipython",
    "version": 3
   },
   "file_extension": ".py",
   "mimetype": "text/x-python",
   "name": "python",
   "nbconvert_exporter": "python",
   "pygments_lexer": "ipython3",
   "version": "3.7.9"
  }
 },
 "nbformat": 4,
 "nbformat_minor": 1
}
